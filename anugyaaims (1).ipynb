{
 "cells": [
  {
   "cell_type": "code",
   "execution_count": 1,
   "id": "8211b50c",
   "metadata": {
    "_cell_guid": "b1076dfc-b9ad-4769-8c92-a6c4dae69d19",
    "_uuid": "8f2839f25d086af736a60e9eeb907d3b93b6e0e5",
    "execution": {
     "iopub.execute_input": "2024-11-10T12:43:17.048943Z",
     "iopub.status.busy": "2024-11-10T12:43:17.048397Z",
     "iopub.status.idle": "2024-11-10T12:43:37.351356Z",
     "shell.execute_reply": "2024-11-10T12:43:37.350140Z"
    },
    "papermill": {
     "duration": 20.311418,
     "end_time": "2024-11-10T12:43:37.354326",
     "exception": false,
     "start_time": "2024-11-10T12:43:17.042908",
     "status": "completed"
    },
    "tags": []
   },
   "outputs": [
    {
     "name": "stdout",
     "output_type": "stream",
     "text": [
      "/kaggle/input/intra-aims-ml-challenge/test_set.csv\n",
      "/kaggle/input/intra-aims-ml-challenge/submission.csv\n",
      "/kaggle/input/intra-aims-ml-challenge/train_set.csv\n"
     ]
    }
   ],
   "source": [
    "\n",
    "from catboost import CatBoostRegressor\n",
    "from tpot import TPOTRegressor\n",
    "import numpy as np # linear algebra\n",
    "import pandas as pd # data processing, CSV file I/O (e.g. pd.read_csv)\n",
    "from sklearn.pipeline import Pipeline\n",
    "\n",
    "from sklearn.compose import ColumnTransformer\n",
    "from sklearn.impute import SimpleImputer\n",
    "from sklearn.preprocessing import OneHotEncoder,StandardScaler,OrdinalEncoder,LabelEncoder\n",
    "from xgboost import XGBRegressor\n",
    "from tensorflow.keras.layers import Normalization\n",
    "from sklearn.ensemble import RandomForestRegressor\n",
    "from sklearn.model_selection import GridSearchCV\n",
    "\n",
    "from sklearn.model_selection import train_test_split,cross_val_score,GridSearchCV\n",
    "from sklearn.metrics import mean_squared_error as mse\n",
    "from sklearn.metrics import accuracy_score\n",
    "from sklearn.metrics import mean_absolute_error as mae\n",
    "\n",
    "\n",
    "import os\n",
    "for dirname, _, filenames in os.walk('/kaggle/input'):\n",
    "    for filename in filenames:\n",
    "        print(os.path.join(dirname, filename))\n",
    "\n"
   ]
  },
  {
   "cell_type": "code",
   "execution_count": 2,
   "id": "bf10edcb",
   "metadata": {
    "execution": {
     "iopub.execute_input": "2024-11-10T12:43:37.363047Z",
     "iopub.status.busy": "2024-11-10T12:43:37.362314Z",
     "iopub.status.idle": "2024-11-10T12:43:37.417711Z",
     "shell.execute_reply": "2024-11-10T12:43:37.416527Z"
    },
    "papermill": {
     "duration": 0.06274,
     "end_time": "2024-11-10T12:43:37.420552",
     "exception": false,
     "start_time": "2024-11-10T12:43:37.357812",
     "status": "completed"
    },
    "tags": []
   },
   "outputs": [],
   "source": [
    "train=pd.read_csv(\"/kaggle/input/intra-aims-ml-challenge/train_set.csv\")\n",
    "test1=pd.read_csv(\"/kaggle/input/intra-aims-ml-challenge/test_set.csv\")\n",
    "test=pd.read_csv(\"/kaggle/input/intra-aims-ml-challenge/test_set.csv\")\n"
   ]
  },
  {
   "cell_type": "code",
   "execution_count": 3,
   "id": "4145d3e2",
   "metadata": {
    "execution": {
     "iopub.execute_input": "2024-11-10T12:43:37.429432Z",
     "iopub.status.busy": "2024-11-10T12:43:37.428678Z",
     "iopub.status.idle": "2024-11-10T12:43:37.473224Z",
     "shell.execute_reply": "2024-11-10T12:43:37.472143Z"
    },
    "papermill": {
     "duration": 0.052127,
     "end_time": "2024-11-10T12:43:37.476198",
     "exception": false,
     "start_time": "2024-11-10T12:43:37.424071",
     "status": "completed"
    },
    "tags": []
   },
   "outputs": [
    {
     "data": {
      "text/html": [
       "<div>\n",
       "<style scoped>\n",
       "    .dataframe tbody tr th:only-of-type {\n",
       "        vertical-align: middle;\n",
       "    }\n",
       "\n",
       "    .dataframe tbody tr th {\n",
       "        vertical-align: top;\n",
       "    }\n",
       "\n",
       "    .dataframe thead th {\n",
       "        text-align: right;\n",
       "    }\n",
       "</style>\n",
       "<table border=\"1\" class=\"dataframe\">\n",
       "  <thead>\n",
       "    <tr style=\"text-align: right;\">\n",
       "      <th></th>\n",
       "      <th>Product_Code</th>\n",
       "      <th>Fat_Category</th>\n",
       "      <th>Category_Type</th>\n",
       "      <th>Store_Code</th>\n",
       "      <th>Store_Size</th>\n",
       "      <th>Location_Class</th>\n",
       "      <th>Store_Category</th>\n",
       "    </tr>\n",
       "  </thead>\n",
       "  <tbody>\n",
       "    <tr>\n",
       "      <th>count</th>\n",
       "      <td>7750</td>\n",
       "      <td>7750</td>\n",
       "      <td>7750</td>\n",
       "      <td>7750</td>\n",
       "      <td>5565</td>\n",
       "      <td>7750</td>\n",
       "      <td>7750</td>\n",
       "    </tr>\n",
       "    <tr>\n",
       "      <th>unique</th>\n",
       "      <td>1558</td>\n",
       "      <td>2</td>\n",
       "      <td>16</td>\n",
       "      <td>10</td>\n",
       "      <td>3</td>\n",
       "      <td>3</td>\n",
       "      <td>4</td>\n",
       "    </tr>\n",
       "    <tr>\n",
       "      <th>top</th>\n",
       "      <td>FDW13</td>\n",
       "      <td>Reduced</td>\n",
       "      <td>Produce</td>\n",
       "      <td>OUT049</td>\n",
       "      <td>Standard</td>\n",
       "      <td>Rural</td>\n",
       "      <td>Superstore A</td>\n",
       "    </tr>\n",
       "    <tr>\n",
       "      <th>freq</th>\n",
       "      <td>10</td>\n",
       "      <td>5027</td>\n",
       "      <td>1114</td>\n",
       "      <td>854</td>\n",
       "      <td>2537</td>\n",
       "      <td>3043</td>\n",
       "      <td>5076</td>\n",
       "    </tr>\n",
       "  </tbody>\n",
       "</table>\n",
       "</div>"
      ],
      "text/plain": [
       "       Product_Code Fat_Category Category_Type Store_Code Store_Size  \\\n",
       "count          7750         7750          7750       7750       5565   \n",
       "unique         1558            2            16         10          3   \n",
       "top           FDW13      Reduced       Produce     OUT049   Standard   \n",
       "freq             10         5027          1114        854       2537   \n",
       "\n",
       "       Location_Class Store_Category  \n",
       "count            7750           7750  \n",
       "unique              3              4  \n",
       "top             Rural   Superstore A  \n",
       "freq             3043           5076  "
      ]
     },
     "execution_count": 3,
     "metadata": {},
     "output_type": "execute_result"
    }
   ],
   "source": [
    "train.describe(include='object')\n"
   ]
  },
  {
   "cell_type": "code",
   "execution_count": 4,
   "id": "5e127d54",
   "metadata": {
    "execution": {
     "iopub.execute_input": "2024-11-10T12:43:37.485000Z",
     "iopub.status.busy": "2024-11-10T12:43:37.484560Z",
     "iopub.status.idle": "2024-11-10T12:43:37.498240Z",
     "shell.execute_reply": "2024-11-10T12:43:37.497109Z"
    },
    "papermill": {
     "duration": 0.020894,
     "end_time": "2024-11-10T12:43:37.500745",
     "exception": false,
     "start_time": "2024-11-10T12:43:37.479851",
     "status": "completed"
    },
    "tags": []
   },
   "outputs": [],
   "source": [
    "X=train[['Product_Code','Product_Weight','Fat_Category','Visibility_Score','Category_Type','Retail_Price','Store_Code','Year_Opened','Store_Size','Location_Class','Store_Category']]\n",
    "Y=train.Total_Sales\n"
   ]
  },
  {
   "cell_type": "code",
   "execution_count": 5,
   "id": "8f5e2998",
   "metadata": {
    "execution": {
     "iopub.execute_input": "2024-11-10T12:43:37.509734Z",
     "iopub.status.busy": "2024-11-10T12:43:37.509287Z",
     "iopub.status.idle": "2024-11-10T12:43:37.528248Z",
     "shell.execute_reply": "2024-11-10T12:43:37.527128Z"
    },
    "papermill": {
     "duration": 0.026283,
     "end_time": "2024-11-10T12:43:37.530650",
     "exception": false,
     "start_time": "2024-11-10T12:43:37.504367",
     "status": "completed"
    },
    "tags": []
   },
   "outputs": [
    {
     "data": {
      "text/html": [
       "<div>\n",
       "<style scoped>\n",
       "    .dataframe tbody tr th:only-of-type {\n",
       "        vertical-align: middle;\n",
       "    }\n",
       "\n",
       "    .dataframe tbody tr th {\n",
       "        vertical-align: top;\n",
       "    }\n",
       "\n",
       "    .dataframe thead th {\n",
       "        text-align: right;\n",
       "    }\n",
       "</style>\n",
       "<table border=\"1\" class=\"dataframe\">\n",
       "  <thead>\n",
       "    <tr style=\"text-align: right;\">\n",
       "      <th></th>\n",
       "      <th>Product_Code</th>\n",
       "      <th>Product_Weight</th>\n",
       "      <th>Fat_Category</th>\n",
       "      <th>Visibility_Score</th>\n",
       "      <th>Category_Type</th>\n",
       "      <th>Retail_Price</th>\n",
       "      <th>Store_Code</th>\n",
       "      <th>Year_Opened</th>\n",
       "      <th>Store_Size</th>\n",
       "      <th>Location_Class</th>\n",
       "      <th>Store_Category</th>\n",
       "    </tr>\n",
       "  </thead>\n",
       "  <tbody>\n",
       "    <tr>\n",
       "      <th>0</th>\n",
       "      <td>FDI28</td>\n",
       "      <td>14.300</td>\n",
       "      <td>Reduced</td>\n",
       "      <td>0.026300</td>\n",
       "      <td>Frozen Foods</td>\n",
       "      <td>79.4302</td>\n",
       "      <td>OUT013</td>\n",
       "      <td>1987</td>\n",
       "      <td>Spacious</td>\n",
       "      <td>Rural</td>\n",
       "      <td>Superstore A</td>\n",
       "    </tr>\n",
       "    <tr>\n",
       "      <th>1</th>\n",
       "      <td>NCM17</td>\n",
       "      <td>7.930</td>\n",
       "      <td>Reduced</td>\n",
       "      <td>0.071136</td>\n",
       "      <td>Health and Hygiene</td>\n",
       "      <td>42.7086</td>\n",
       "      <td>OUT046</td>\n",
       "      <td>1997</td>\n",
       "      <td>Compact</td>\n",
       "      <td>Urban</td>\n",
       "      <td>Superstore A</td>\n",
       "    </tr>\n",
       "    <tr>\n",
       "      <th>2</th>\n",
       "      <td>FDC14</td>\n",
       "      <td>14.500</td>\n",
       "      <td>Standard</td>\n",
       "      <td>0.041313</td>\n",
       "      <td>Canned</td>\n",
       "      <td>42.0454</td>\n",
       "      <td>OUT049</td>\n",
       "      <td>1999</td>\n",
       "      <td>Standard</td>\n",
       "      <td>Urban</td>\n",
       "      <td>Superstore A</td>\n",
       "    </tr>\n",
       "    <tr>\n",
       "      <th>3</th>\n",
       "      <td>DRC36</td>\n",
       "      <td>NaN</td>\n",
       "      <td>Standard</td>\n",
       "      <td>0.044767</td>\n",
       "      <td>Beverages</td>\n",
       "      <td>173.7054</td>\n",
       "      <td>OUT027</td>\n",
       "      <td>1985</td>\n",
       "      <td>Standard</td>\n",
       "      <td>Rural</td>\n",
       "      <td>Superstore C</td>\n",
       "    </tr>\n",
       "    <tr>\n",
       "      <th>4</th>\n",
       "      <td>FDS27</td>\n",
       "      <td>10.195</td>\n",
       "      <td>Standard</td>\n",
       "      <td>0.012456</td>\n",
       "      <td>Proteins</td>\n",
       "      <td>197.5110</td>\n",
       "      <td>OUT035</td>\n",
       "      <td>2004</td>\n",
       "      <td>Compact</td>\n",
       "      <td>Suburban</td>\n",
       "      <td>Superstore A</td>\n",
       "    </tr>\n",
       "  </tbody>\n",
       "</table>\n",
       "</div>"
      ],
      "text/plain": [
       "  Product_Code  Product_Weight Fat_Category  Visibility_Score  \\\n",
       "0        FDI28          14.300      Reduced          0.026300   \n",
       "1        NCM17           7.930      Reduced          0.071136   \n",
       "2        FDC14          14.500     Standard          0.041313   \n",
       "3        DRC36             NaN     Standard          0.044767   \n",
       "4        FDS27          10.195     Standard          0.012456   \n",
       "\n",
       "        Category_Type  Retail_Price Store_Code  Year_Opened Store_Size  \\\n",
       "0        Frozen Foods       79.4302     OUT013         1987   Spacious   \n",
       "1  Health and Hygiene       42.7086     OUT046         1997    Compact   \n",
       "2              Canned       42.0454     OUT049         1999   Standard   \n",
       "3           Beverages      173.7054     OUT027         1985   Standard   \n",
       "4            Proteins      197.5110     OUT035         2004    Compact   \n",
       "\n",
       "  Location_Class Store_Category  \n",
       "0          Rural   Superstore A  \n",
       "1          Urban   Superstore A  \n",
       "2          Urban   Superstore A  \n",
       "3          Rural   Superstore C  \n",
       "4       Suburban   Superstore A  "
      ]
     },
     "execution_count": 5,
     "metadata": {},
     "output_type": "execute_result"
    }
   ],
   "source": [
    "X.head()"
   ]
  },
  {
   "cell_type": "code",
   "execution_count": 6,
   "id": "d5e9cdad",
   "metadata": {
    "execution": {
     "iopub.execute_input": "2024-11-10T12:43:37.540408Z",
     "iopub.status.busy": "2024-11-10T12:43:37.539999Z",
     "iopub.status.idle": "2024-11-10T12:43:37.591645Z",
     "shell.execute_reply": "2024-11-10T12:43:37.590424Z"
    },
    "papermill": {
     "duration": 0.060575,
     "end_time": "2024-11-10T12:43:37.594967",
     "exception": false,
     "start_time": "2024-11-10T12:43:37.534392",
     "status": "completed"
    },
    "tags": []
   },
   "outputs": [
    {
     "name": "stdout",
     "output_type": "stream",
     "text": [
      "[[-0.41005703]\n",
      " [ 0.2541865 ]\n",
      " [-0.18763439]\n",
      " ...\n",
      " [ 0.50691241]\n",
      " [-0.27621292]\n",
      " [ 0.72507946]]\n"
     ]
    },
    {
     "name": "stderr",
     "output_type": "stream",
     "text": [
      "/tmp/ipykernel_17/2146704632.py:1: SettingWithCopyWarning: \n",
      "A value is trying to be set on a copy of a slice from a DataFrame.\n",
      "Try using .loc[row_indexer,col_indexer] = value instead\n",
      "\n",
      "See the caveats in the documentation: https://pandas.pydata.org/pandas-docs/stable/user_guide/indexing.html#returning-a-view-versus-a-copy\n",
      "  X['Year_Opened'] = 2024 - X['Year_Opened']\n",
      "/tmp/ipykernel_17/2146704632.py:29: SettingWithCopyWarning: \n",
      "A value is trying to be set on a copy of a slice from a DataFrame.\n",
      "Try using .loc[row_indexer,col_indexer] = value instead\n",
      "\n",
      "See the caveats in the documentation: https://pandas.pydata.org/pandas-docs/stable/user_guide/indexing.html#returning-a-view-versus-a-copy\n",
      "  X['Fat_Category'] = label_encoder.fit_transform(X['Fat_Category'])\n",
      "/tmp/ipykernel_17/2146704632.py:30: SettingWithCopyWarning: \n",
      "A value is trying to be set on a copy of a slice from a DataFrame.\n",
      "Try using .loc[row_indexer,col_indexer] = value instead\n",
      "\n",
      "See the caveats in the documentation: https://pandas.pydata.org/pandas-docs/stable/user_guide/indexing.html#returning-a-view-versus-a-copy\n",
      "  X['Store_Size'] = label_encoder.fit_transform(X['Store_Size'])\n",
      "/tmp/ipykernel_17/2146704632.py:34: SettingWithCopyWarning: \n",
      "A value is trying to be set on a copy of a slice from a DataFrame.\n",
      "Try using .loc[row_indexer,col_indexer] = value instead\n",
      "\n",
      "See the caveats in the documentation: https://pandas.pydata.org/pandas-docs/stable/user_guide/indexing.html#returning-a-view-versus-a-copy\n",
      "  X['Product_Code'] = X['Product_Code'].map(freq_encoding)\n",
      "/tmp/ipykernel_17/2146704632.py:36: FutureWarning: A value is trying to be set on a copy of a DataFrame or Series through chained assignment using an inplace method.\n",
      "The behavior will change in pandas 3.0. This inplace method will never work because the intermediate object on which we are setting values always behaves as a copy.\n",
      "\n",
      "For example, when doing 'df[col].method(value, inplace=True)', try using 'df.method({col: value}, inplace=True)' or df[col] = df[col].method(value) instead, to perform the operation inplace on the original object.\n",
      "\n",
      "\n",
      "  X['Visibility_Score'].fillna(X['Visibility_Score'].median(), inplace=True)\n",
      "/tmp/ipykernel_17/2146704632.py:36: SettingWithCopyWarning: \n",
      "A value is trying to be set on a copy of a slice from a DataFrame\n",
      "\n",
      "See the caveats in the documentation: https://pandas.pydata.org/pandas-docs/stable/user_guide/indexing.html#returning-a-view-versus-a-copy\n",
      "  X['Visibility_Score'].fillna(X['Visibility_Score'].median(), inplace=True)\n",
      "/tmp/ipykernel_17/2146704632.py:39: SettingWithCopyWarning: \n",
      "A value is trying to be set on a copy of a slice from a DataFrame.\n",
      "Try using .loc[row_indexer,col_indexer] = value instead\n",
      "\n",
      "See the caveats in the documentation: https://pandas.pydata.org/pandas-docs/stable/user_guide/indexing.html#returning-a-view-versus-a-copy\n",
      "  X['Product_Weight'] = X.groupby('Category_Type')['Product_Weight'].transform(lambda x: x.fillna(x.mean()))\n"
     ]
    }
   ],
   "source": [
    "X['Year_Opened'] = 2024 - X['Year_Opened']\n",
    "\n",
    "cat_cols = ['Product_Code','Fat_Category','Category_Type','Store_Code','Store_Size','Location_Class', 'Store_Category']  \n",
    "num_cols = ['Product_Weight', 'Visibility_Score', 'Retail_Price', 'Year_Opened']  # Example numerical columns\n",
    "\n",
    "\n",
    "cat_tf1 = Pipeline(steps=[\n",
    "     \n",
    "    ('onehot', OneHotEncoder(handle_unknown='ignore')),\n",
    "    ('imputer', SimpleImputer(strategy='mean')) \n",
    "])\n",
    "\n",
    "\n",
    "\n",
    "\n",
    "scaler = StandardScaler()\n",
    "\n",
    "from sklearn.preprocessing import RobustScaler\n",
    "\n",
    "scaler = RobustScaler()\n",
    "\n",
    "\n",
    "X_scaled = scaler.fit_transform(X[['Visibility_Score']])\n",
    "\n",
    "print(X_scaled)\n",
    "\n",
    "\n",
    "label_encoder = LabelEncoder()\n",
    "X['Fat_Category'] = label_encoder.fit_transform(X['Fat_Category'])\n",
    "X['Store_Size'] = label_encoder.fit_transform(X['Store_Size'])\n",
    "\n",
    "\n",
    "freq_encoding = X['Product_Code'].value_counts().to_dict()\n",
    "X['Product_Code'] = X['Product_Code'].map(freq_encoding)\n",
    "\n",
    "X['Visibility_Score'].fillna(X['Visibility_Score'].median(), inplace=True)\n",
    "\n",
    "\n",
    "X['Product_Weight'] = X.groupby('Category_Type')['Product_Weight'].transform(lambda x: x.fillna(x.mean()))\n",
    "\n",
    "\n",
    "preprocessor = ColumnTransformer(\n",
    "    transformers=[\n",
    "        ('onehot', cat_tf1, cat_cols),  \n",
    "        ('scaler', scaler, num_cols)  \n",
    "    ]\n",
    ")\n",
    "\n",
    "\n",
    "X_train, X_valid, Y_train, Y_valid = train_test_split(X, Y, test_size=0.2, random_state=42)\n"
   ]
  },
  {
   "cell_type": "code",
   "execution_count": 7,
   "id": "7a1c9966",
   "metadata": {
    "execution": {
     "iopub.execute_input": "2024-11-10T12:43:37.605487Z",
     "iopub.status.busy": "2024-11-10T12:43:37.604445Z",
     "iopub.status.idle": "2024-11-10T12:43:41.877150Z",
     "shell.execute_reply": "2024-11-10T12:43:41.875592Z"
    },
    "papermill": {
     "duration": 4.280465,
     "end_time": "2024-11-10T12:43:41.879641",
     "exception": false,
     "start_time": "2024-11-10T12:43:37.599176",
     "status": "completed"
    },
    "tags": []
   },
   "outputs": [
    {
     "name": "stdout",
     "output_type": "stream",
     "text": [
      "0:\tlearn: 1697.8140603\ttotal: 55ms\tremaining: 2m 11s\n",
      "70:\tlearn: 1505.7356388\ttotal: 171ms\tremaining: 5.61s\n",
      "140:\tlearn: 1367.3418019\ttotal: 290ms\tremaining: 4.64s\n",
      "210:\tlearn: 1269.8280950\ttotal: 404ms\tremaining: 4.19s\n",
      "280:\tlearn: 1203.3028021\ttotal: 520ms\tremaining: 3.92s\n",
      "350:\tlearn: 1157.3507838\ttotal: 632ms\tremaining: 3.69s\n",
      "420:\tlearn: 1126.8443833\ttotal: 746ms\tremaining: 3.51s\n",
      "490:\tlearn: 1105.9638743\ttotal: 858ms\tremaining: 3.34s\n",
      "560:\tlearn: 1091.6797215\ttotal: 971ms\tremaining: 3.18s\n",
      "630:\tlearn: 1081.6221194\ttotal: 1.08s\tremaining: 3.04s\n",
      "700:\tlearn: 1074.8792512\ttotal: 1.2s\tremaining: 2.9s\n",
      "770:\tlearn: 1069.9204177\ttotal: 1.3s\tremaining: 2.76s\n",
      "840:\tlearn: 1066.1705404\ttotal: 1.42s\tremaining: 2.63s\n",
      "910:\tlearn: 1063.2743875\ttotal: 1.52s\tremaining: 2.49s\n",
      "980:\tlearn: 1060.6830433\ttotal: 1.64s\tremaining: 2.38s\n",
      "1050:\tlearn: 1058.6162199\ttotal: 1.75s\tremaining: 2.25s\n",
      "1120:\tlearn: 1056.8960912\ttotal: 1.87s\tremaining: 2.13s\n",
      "1190:\tlearn: 1055.2080136\ttotal: 1.98s\tremaining: 2.01s\n",
      "1260:\tlearn: 1053.7041116\ttotal: 2.09s\tremaining: 1.89s\n",
      "1330:\tlearn: 1052.3454683\ttotal: 2.21s\tremaining: 1.77s\n",
      "1400:\tlearn: 1051.0178090\ttotal: 2.32s\tremaining: 1.65s\n",
      "1470:\tlearn: 1049.6904596\ttotal: 2.43s\tremaining: 1.53s\n",
      "1540:\tlearn: 1048.4036507\ttotal: 2.54s\tremaining: 1.42s\n",
      "1610:\tlearn: 1047.2174564\ttotal: 2.65s\tremaining: 1.3s\n",
      "1680:\tlearn: 1046.0084942\ttotal: 2.76s\tremaining: 1.18s\n",
      "1750:\tlearn: 1044.8028653\ttotal: 2.87s\tremaining: 1.06s\n",
      "1820:\tlearn: 1043.6358161\ttotal: 2.98s\tremaining: 948ms\n",
      "1890:\tlearn: 1042.5848808\ttotal: 3.09s\tremaining: 833ms\n",
      "1960:\tlearn: 1041.4452157\ttotal: 3.21s\tremaining: 718ms\n",
      "2030:\tlearn: 1040.3540004\ttotal: 3.32s\tremaining: 602ms\n",
      "2100:\tlearn: 1039.2452224\ttotal: 3.43s\tremaining: 488ms\n",
      "2170:\tlearn: 1038.2021721\ttotal: 3.54s\tremaining: 373ms\n",
      "2240:\tlearn: 1036.9674469\ttotal: 3.65s\tremaining: 259ms\n",
      "2310:\tlearn: 1035.9311274\ttotal: 3.75s\tremaining: 145ms\n",
      "2380:\tlearn: 1034.8608960\ttotal: 3.86s\tremaining: 30.8ms\n",
      "2399:\tlearn: 1034.5311425\ttotal: 3.89s\tremaining: 0us\n",
      "Mean Squared Error =  1140947.416900354\n",
      "Mean Absolute Error =  757.534811266553 \n",
      "\n"
     ]
    }
   ],
   "source": [
    "model = CatBoostRegressor(\n",
    "    iterations=2400, \n",
    "    l2_leaf_reg=5,\n",
    "    learning_rate=0.0035,            \n",
    "    depth=5,\n",
    "    early_stopping_rounds=50,                      \n",
    "    loss_function=\"RMSE\",         \n",
    "    verbose=70                  \n",
    ")\n",
    "\n",
    "pipeline = Pipeline(steps=[\n",
    "    ('preprocessor', preprocessor),  \n",
    "    ('model', model)   ])             \n",
    "\n",
    "pipeline.fit(X_train, Y_train)\n",
    "\n",
    "Y_pred = pipeline.predict(X_valid)\n",
    "\n",
    "# Step 11: Calculate errors\n",
    "print(\"Mean Squared Error = \", mse(Y_valid, Y_pred))\n",
    "print(\"Mean Absolute Error = \", mae(Y_valid, Y_pred), \"\\n\")"
   ]
  },
  {
   "cell_type": "code",
   "execution_count": 8,
   "id": "7a72f8ba",
   "metadata": {
    "execution": {
     "iopub.execute_input": "2024-11-10T12:43:41.893307Z",
     "iopub.status.busy": "2024-11-10T12:43:41.892910Z",
     "iopub.status.idle": "2024-11-10T12:43:41.913885Z",
     "shell.execute_reply": "2024-11-10T12:43:41.912709Z"
    },
    "papermill": {
     "duration": 0.030092,
     "end_time": "2024-11-10T12:43:41.916419",
     "exception": false,
     "start_time": "2024-11-10T12:43:41.886327",
     "status": "completed"
    },
    "tags": []
   },
   "outputs": [],
   "source": [
    "test[\"Year_Opened\"]=2024-test[\"Year_Opened\"]\n",
    "\n",
    "test_pred=pipeline.predict(test)"
   ]
  },
  {
   "cell_type": "code",
   "execution_count": 9,
   "id": "990c0f43",
   "metadata": {
    "execution": {
     "iopub.execute_input": "2024-11-10T12:43:41.929552Z",
     "iopub.status.busy": "2024-11-10T12:43:41.928579Z",
     "iopub.status.idle": "2024-11-10T12:43:41.939408Z",
     "shell.execute_reply": "2024-11-10T12:43:41.938306Z"
    },
    "papermill": {
     "duration": 0.019733,
     "end_time": "2024-11-10T12:43:41.941962",
     "exception": false,
     "start_time": "2024-11-10T12:43:41.922229",
     "status": "completed"
    },
    "tags": []
   },
   "outputs": [],
   "source": [
    "output=pd.DataFrame({'Id':test1.Id,'Total_Sales':test_pred})\n",
    "output.to_csv('AnugyaAIMSSubmission.csv',index=False)"
   ]
  }
 ],
 "metadata": {
  "kaggle": {
   "accelerator": "none",
   "dataSources": [
    {
     "databundleVersionId": 10003727,
     "sourceId": 87691,
     "sourceType": "competition"
    }
   ],
   "dockerImageVersionId": 30786,
   "isGpuEnabled": false,
   "isInternetEnabled": false,
   "language": "python",
   "sourceType": "notebook"
  },
  "kernelspec": {
   "display_name": "Python 3",
   "language": "python",
   "name": "python3"
  },
  "language_info": {
   "codemirror_mode": {
    "name": "ipython",
    "version": 3
   },
   "file_extension": ".py",
   "mimetype": "text/x-python",
   "name": "python",
   "nbconvert_exporter": "python",
   "pygments_lexer": "ipython3",
   "version": "3.10.14"
  },
  "papermill": {
   "default_parameters": {},
   "duration": 30.48721,
   "end_time": "2024-11-10T12:43:44.745184",
   "environment_variables": {},
   "exception": null,
   "input_path": "__notebook__.ipynb",
   "output_path": "__notebook__.ipynb",
   "parameters": {},
   "start_time": "2024-11-10T12:43:14.257974",
   "version": "2.6.0"
  }
 },
 "nbformat": 4,
 "nbformat_minor": 5
}
